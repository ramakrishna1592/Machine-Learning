{
 "cells": [
  {
   "cell_type": "markdown",
   "metadata": {},
   "source": [
    "Machine Learning Defined\n",
    "<p><i>\n",
    "field of study that gives computers the ability to learn without being explicitly programmed : Arthur Samuel 1959\n",
    "a computer program is said to learn from experience E with respect to some task T and some performance measure P, if its performance on T as measured by P, improves with E : Tom Mitchell 1998 </i></p>\n",
    "\n",
    "Supervised Learning : training data includes the “correct” answer\n",
    "\n",
    "Regression - algorithms that predict continuous outputs\n",
    "\n",
    "Categorization - algorithms that predict discrete outputs\n",
    "\n",
    "Unsupervised Learning : problems where the algorithm is given a data set without any “right answers”. The objective is to find some underlying structure in the data, e.g. clustering \n",
    "\n",
    "Reinforcement Learning : problems where a sequence of decisions are made as opposed to a single decision (or prediction) \n",
    "\n",
    "Learning Theory : study of how and why (mathematically) a learning algorithm works"
   ]
  },
  {
   "cell_type": "markdown",
   "metadata": {
    "collapsed": true
   },
   "source": [
    "#### Supervised learning:\n",
    "The computer is presented with a set of labelled example inputs and their desired labelled outputs, given by a \"teacher\". Supervised learning is the machine learning task of inferring a function from the labeled training data that maps inputs to outputs. Each example is a pair consisting of an input object (typically a vector) and a desired output value (also called the supervisory signal). The learning algorithm analyzes the training data and produces an inferred function, which can be used for mapping new examples. An optimal scenario will allow for the algorithm to correctly determine the class labels for unseen instances. This requires the learning algorithm to generalize from the training data to unseen situations in a \"reasonable\" way.\n",
    "\n",
    "#### Regression\n",
    "\n",
    "Regression is an instance of Supervised machine learning task and is a predictive modeling technique where the target variable to be estimated is continuous. It includes many techniques for modeling and analyzing several variables, when the focus is on the relationship between a dependent variable (target) and one or more independent variables (or 'predictors' or 'features'). More specifically, regression analysis helps one understand how the typical value of the dependent variable (or 'criterion variable') changes when any one of the independent variables is varied, while the other independent variables are held fixed. The estimation goal is a function of the independent variables called the regression function.\n",
    "\n",
    "Examples:\n",
    "Prediction of the yield in a chemical manufacturing process in which the inputs consist of the concentrations of reactants, the temperature, and the pressure.\n",
    "\n",
    "Predicting the sale price of a new house based on features of the house such as number of bedrooms, number of bathrooms, living area in sqft, number of floors, zipcode and the sales price of similar houses in the neighborhood.\n",
    "\n",
    "Predicting a stock market index using other economic indicators.\n",
    "Forecasting the amount of precipitation in a region based on characteristics of the jet stream.\n",
    "\n",
    "Projecting the total sales of a company based on the amount spent for advertising.\n",
    "Estimating the age of a fossil according to the amount of carbon-14 left in the organic material.\n",
    "\n",
    "##### Popular Algorithms:\n",
    "Linear Regression\n",
    "\n",
    "#### Classification\n",
    "\n",
    "Classification is an instance of Supervised machine learning task where the goal is to identify to which of a set of categories (sub-populations) a new observation belongs, on the basis of a training set of data containing observations (or instances) whose category membership is known.\n",
    "\n",
    "Examples:\n",
    "Assign a given email into \"spam\" or \"non-spam\" classes based on the analyzing various components of an e-mail (subject, from, message content etc.)\n",
    "\n",
    "Assign a diagnosis to a given patient as described by observed characteristics of the patient (gender, blood pressure, presence or absence of certain symptoms, etc.).\n",
    "\n",
    "Digit Recognition where the aim is to assign each input vector to one of a finite number of discrete categories.\n",
    "Given a book on a specific topic suggest top 5 similar books in the library.\n",
    "\n",
    "##### Popular Algorithms:\n",
    "Logistic regression (Regression is a misnomer here, it is indeed a classification method)\n",
    "\n",
    "Naive Bayes classifier\n",
    "\n",
    "Support vector machines\n",
    "\n",
    "k-nearest neighbor (KNN)\n",
    "\n",
    "Boosting (meta-algorithm)\n",
    "\n",
    "Decision trees\n",
    "\n",
    "Random forests\n",
    "\n",
    "Neural networks\n",
    "\n",
    "\n",
    "#### Unsupervised Learning\n",
    "\n",
    "Unsupervised learning: The computer is presented with a set of unlabeled example inputs and the task of trying to find hidden structure in unlabeled data. Since the examples given to the learner are unlabeled, there is no error or reward signal to evaluate a potential solution. This distinguishes unsupervised learning from supervised learning and reinforcement learning. The learning algorithm is left on its own to find structure in its input.\n",
    "%%latex \\hfill\n",
    "\n",
    "\n",
    "#### Clustering\n",
    "\n",
    "Clustering or Cluster analysis is an instance of Unsupervised machine learning task where the task is to group a set of objects in such a way that objects in the same group (called a cluster) are more similar (in some sense or another) to each other than to those in other groups (clusters).\n",
    "\n",
    "Examples:\n",
    "In Astronomy finding the aggregation of stars, galaxies, or super galaxies etc.\n",
    "\n",
    "World Wide Web consists of billions of Web pages, and the results of a query to a search engine can return thousands of pages. Clustering can be used to group these search results into a small number of clusters, such as sports, cars etc. Each cluster can be broken into subcategories producing a hierarchical structure that further assists a user’s exploration of the query results.\n",
    "\n",
    "A telephone company needs to establish its network by putting its towers in a particular region it has acquired. The location of putting these towers can be found by clustering algorithm so that all the users receive optimum signal strength.\n",
    "\n",
    "The Miami DEA wants to make its law enforcement more stringent and hence have decide to make their patrol vans stationed across the area so that the areas of high crime rates are in vicinity to the patrol vans.\n",
    "A Hospital Care chain wants to open a series of Emergency-Care wards keeping in mind the factor of maximum accident prone areas in a region.\n",
    "\n",
    "##### Popular Algorithms:\n",
    "k-means Clustering\n",
    "\n",
    "Hierarchical Clustering\n",
    "\n",
    "#### Reinforcement Learning\n",
    "\n",
    "A computer program interacts with a dynamic environment in which it must perform a certain goal (such as driving a vehicle), without a teacher explicitly telling it whether it has come close to its goal or not. Another example is learning to play a game of backgammon by playing against an opponent. The technique of reinforcement learning is concerned with the problem of finding suitable actions to take in a given situation in order to maximize a reward. Here the learning algorithm is not given examples of optimal outputs, in contrast to supervised learning, but must instead discover them by a process of trial and error. Typically there is a sequence of states and actions in which the learning algorithm is interacting with its environment. In many cases, the current action not only affects the immediate reward but also has an impact on the reward at all subsequent time steps. A general feature of reinforcement learning is the trade-off between exploration, in which the system tries out new kinds of actions to see how effective they are, and exploitation, in which the system makes use of actions that are known to yield a high reward. Too strong a focus on either exploration or exploitation will yield poor results.\n",
    "\n",
    "Examples:\n",
    "Cleaning robot\n",
    "Walking robot\n",
    "Pole balancing\n",
    "Games: Tetris, Backgammon\n",
    "Server management\n",
    "Shortest path problems"
   ]
  },
  {
   "cell_type": "markdown",
   "metadata": {
    "collapsed": true
   },
   "source": [
    "## Machine learning terminology\n",
    "\n",
    "- Each row is an observation (also known as: sample, example, instance, record)\n",
    "- Each column is a feature (also known as: predictor, attribute, independent variable, input, regressor, covariate)\n",
    "- Each value we are predicting is the response (also known as: target, outcome, label, dependent variable)\n",
    "- Classification is supervised learning in which the response is categorical\n",
    "- Regression is supervised learning in which the response is ordered and continuous"
   ]
  },
  {
   "cell_type": "code",
   "execution_count": null,
   "metadata": {
    "collapsed": true
   },
   "outputs": [],
   "source": []
  }
 ],
 "metadata": {
  "kernelspec": {
   "display_name": "Python 3",
   "language": "python",
   "name": "python3"
  },
  "language_info": {
   "codemirror_mode": {
    "name": "ipython",
    "version": 3
   },
   "file_extension": ".py",
   "mimetype": "text/x-python",
   "name": "python",
   "nbconvert_exporter": "python",
   "pygments_lexer": "ipython3",
   "version": "3.5.3"
  }
 },
 "nbformat": 4,
 "nbformat_minor": 2
}
