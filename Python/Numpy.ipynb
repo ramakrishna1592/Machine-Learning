{
 "cells": [
  {
   "cell_type": "code",
   "execution_count": 1,
   "metadata": {
    "collapsed": true
   },
   "outputs": [],
   "source": [
    "import numpy as np"
   ]
  },
  {
   "cell_type": "code",
   "execution_count": 2,
   "metadata": {},
   "outputs": [
    {
     "name": "stdout",
     "output_type": "stream",
     "text": [
      "[25.3, 24.8, 26.9, 23.9]\n",
      "<class 'list'>\n",
      "[ 25.3  24.8  26.9  23.9]\n",
      "<class 'numpy.ndarray'>\n"
     ]
    }
   ],
   "source": [
    "#We have a list with values, e.g. temperatures in Celsius:\n",
    "cvalues = [25.3, 24.8, 26.9, 23.9]\n",
    "print(cvalues)\n",
    "print(type(cvalues))\n",
    "# Converting cvalues into a numpy array\n",
    "C = np.array(cvalues)\n",
    "print(C)\n",
    "print(type(C))"
   ]
  },
  {
   "cell_type": "code",
   "execution_count": 3,
   "metadata": {},
   "outputs": [
    {
     "name": "stdout",
     "output_type": "stream",
     "text": [
      "[ 77.54  76.64  80.42  75.02]\n"
     ]
    }
   ],
   "source": [
    "#Converting into Fahrenheit\n",
    "print(C * 9 / 5 + 32)"
   ]
  },
  {
   "cell_type": "code",
   "execution_count": 4,
   "metadata": {},
   "outputs": [
    {
     "name": "stdout",
     "output_type": "stream",
     "text": [
      "[1 2 3 4 5 6 7 8 9]\n",
      "range(1, 10)\n",
      "[1, 2, 3, 4, 5, 6, 7, 8, 9]\n",
      "[  0.   1.   2.   3.   4.   5.   6.   7.   8.   9.  10.]\n",
      "[  0.5   1.3   2.1   2.9   3.7   4.5   5.3   6.1   6.9   7.7   8.5   9.3\n",
      "  10.1]\n",
      "[ 0  1  2  3  4  5  6  7  8  9 10 11 12]\n"
     ]
    }
   ],
   "source": [
    "#arange\n",
    "#arange([start,] stop[, step,], dtype=None)\n",
    "a = np.arange(1, 10)\n",
    "print(a)\n",
    "# compare to range:\n",
    "x = range(1,10)\n",
    "print(x)    # x is an iterator\n",
    "print(list(x))\n",
    "# some more arange examples:\n",
    "x = np.arange(10.4)\n",
    "print(x)\n",
    "x = np.arange(0.5, 10.4, 0.8)\n",
    "print(x)\n",
    "x = np.arange(0.5, 10.4, 0.8, int)\n",
    "print(x)"
   ]
  },
  {
   "cell_type": "code",
   "execution_count": 5,
   "metadata": {},
   "outputs": [
    {
     "name": "stdout",
     "output_type": "stream",
     "text": [
      "[  1.           1.18367347   1.36734694   1.55102041   1.73469388\n",
      "   1.91836735   2.10204082   2.28571429   2.46938776   2.65306122\n",
      "   2.83673469   3.02040816   3.20408163   3.3877551    3.57142857\n",
      "   3.75510204   3.93877551   4.12244898   4.30612245   4.48979592\n",
      "   4.67346939   4.85714286   5.04081633   5.2244898    5.40816327\n",
      "   5.59183673   5.7755102    5.95918367   6.14285714   6.32653061\n",
      "   6.51020408   6.69387755   6.87755102   7.06122449   7.24489796\n",
      "   7.42857143   7.6122449    7.79591837   7.97959184   8.16326531\n",
      "   8.34693878   8.53061224   8.71428571   8.89795918   9.08163265\n",
      "   9.26530612   9.44897959   9.63265306   9.81632653  10.        ]\n",
      "[  1.    2.5   4.    5.5   7.    8.5  10. ]\n",
      "[ 1.          2.28571429  3.57142857  4.85714286  6.14285714  7.42857143\n",
      "  8.71428571]\n"
     ]
    }
   ],
   "source": [
    "#linspace\n",
    "#linspace(start, stop, num=50, endpoint=True, retstep=False)\n",
    "# 50 values between 1 and 10:\n",
    "print(np.linspace(1, 10))\n",
    "# 7 values between 1 and 10:\n",
    "print(np.linspace(1, 10, 7))\n",
    "# excluding the endpoint:\n",
    "print(np.linspace(1, 10, 7, endpoint=False))"
   ]
  },
  {
   "cell_type": "code",
   "execution_count": 6,
   "metadata": {},
   "outputs": [
    {
     "name": "stdout",
     "output_type": "stream",
     "text": [
      "0.183673469388\n",
      "0.473684210526\n",
      "0.45\n"
     ]
    }
   ],
   "source": [
    "samples, spacing = np.linspace(1, 10, retstep=True)\n",
    "print(spacing)\n",
    "samples, spacing = np.linspace(1, 10, 20, endpoint=True, retstep=True)\n",
    "print(spacing)\n",
    "samples, spacing = np.linspace(1, 10, 20, endpoint=False, retstep=True)\n",
    "print(spacing)"
   ]
  },
  {
   "cell_type": "code",
   "execution_count": 7,
   "metadata": {},
   "outputs": [
    {
     "name": "stdout",
     "output_type": "stream",
     "text": [
      "0.0005695819854736328 4.2438507080078125e-05\n",
      "Numpy is in this example 13.42134831460674 faster!\n"
     ]
    }
   ],
   "source": [
    "import time\n",
    "size_of_vec = 1000\n",
    "def pure_python_version():\n",
    "    t1 = time.time()\n",
    "    X = range(size_of_vec)\n",
    "    Y = range(size_of_vec)\n",
    "    Z = []\n",
    "    for i in range(len(X)):\n",
    "        Z.append(X[i] + Y[i])\n",
    "    return time.time() - t1\n",
    "def numpy_version():\n",
    "    t1 = time.time()\n",
    "    X = np.arange(size_of_vec)\n",
    "    Y = np.arange(size_of_vec)\n",
    "    Z = X + Y\n",
    "    return time.time() - t1\n",
    "\n",
    "t1 = pure_python_version()\n",
    "t2 = numpy_version()\n",
    "print(t1, t2)\n",
    "print(\"Numpy is in this example \" + str(t1/t2) + \" faster!\")"
   ]
  },
  {
   "cell_type": "code",
   "execution_count": 8,
   "metadata": {},
   "outputs": [
    {
     "name": "stdout",
     "output_type": "stream",
     "text": [
      "0.011679311006446369\n",
      "0.0002884479908971116\n"
     ]
    }
   ],
   "source": [
    "from timeit import Timer\n",
    "timer_obj1 = Timer(\"pure_python_version()\", \"from __main__ import pure_python_version\")\n",
    "timer_obj2 = Timer(\"numpy_version()\", \"from __main__ import numpy_version\")\n",
    "print(timer_obj1.timeit(10))\n",
    "print(timer_obj2.timeit(10))"
   ]
  },
  {
   "cell_type": "code",
   "execution_count": 9,
   "metadata": {},
   "outputs": [
    {
     "name": "stdout",
     "output_type": "stream",
     "text": [
      "x:  42\n",
      "The type of x:  <class 'numpy.ndarray'>\n",
      "The dimension of x: 0\n"
     ]
    }
   ],
   "source": [
    "#Creating Arrays\n",
    "#Zero-dimensional Arrays in Numpy\n",
    "x = np.array(42)\n",
    "print(\"x: \", x)\n",
    "print(\"The type of x: \", type(x))\n",
    "print(\"The dimension of x:\", np.ndim(x))"
   ]
  },
  {
   "cell_type": "code",
   "execution_count": 10,
   "metadata": {},
   "outputs": [
    {
     "name": "stdout",
     "output_type": "stream",
     "text": [
      "F:  [ 1  1  2  3  5  8 13 21]\n",
      "V:  [  3.4   6.9  99.8  12.8]\n",
      "Type of F:  int64\n",
      "Type of V:  float64\n",
      "Dimension of F:  1\n",
      "Dimension of V:  1\n"
     ]
    }
   ],
   "source": [
    "#One-dimensional Arrays\n",
    "F = np.array([1, 1, 2, 3, 5, 8, 13, 21])\n",
    "V = np.array([3.4, 6.9, 99.8, 12.8])\n",
    "print(\"F: \", F)\n",
    "print(\"V: \", V)\n",
    "print(\"Type of F: \", F.dtype)\n",
    "print(\"Type of V: \", V.dtype)\n",
    "print(\"Dimension of F: \", np.ndim(F))\n",
    "print(\"Dimension of V: \", np.ndim(V))"
   ]
  },
  {
   "cell_type": "code",
   "execution_count": 11,
   "metadata": {},
   "outputs": [
    {
     "name": "stdout",
     "output_type": "stream",
     "text": [
      "[[  3.4   8.7   9.9]\n",
      " [  1.1  -7.8  -0.7]\n",
      " [  4.1  12.3   4.8]]\n",
      "2\n"
     ]
    }
   ],
   "source": [
    "#Two- and Multidimensional Arrays\n",
    "A = np.array([ [3.4, 8.7, 9.9], \n",
    "               [1.1, -7.8, -0.7],\n",
    "               [4.1, 12.3, 4.8]])\n",
    "print(A)\n",
    "print(A.ndim)"
   ]
  },
  {
   "cell_type": "code",
   "execution_count": 12,
   "metadata": {},
   "outputs": [
    {
     "name": "stdout",
     "output_type": "stream",
     "text": [
      "[[[111 112]\n",
      "  [121 122]]\n",
      "\n",
      " [[211 212]\n",
      "  [221 222]]\n",
      "\n",
      " [[311 312]\n",
      "  [321 322]]]\n",
      "3\n"
     ]
    }
   ],
   "source": [
    "B = np.array([ [[111, 112], [121, 122]],\n",
    "               [[211, 212], [221, 222]],\n",
    "               [[311, 312], [321, 322]] ])\n",
    "print(B)\n",
    "print(B.ndim)"
   ]
  },
  {
   "attachments": {},
   "cell_type": "markdown",
   "metadata": {},
   "source": [
    "# Shape of an Array\n",
    "<img align=\"left\" src=\"http://www.python-course.eu/images/axis1.jpeg\">"
   ]
  },
  {
   "cell_type": "code",
   "execution_count": 13,
   "metadata": {},
   "outputs": [
    {
     "name": "stdout",
     "output_type": "stream",
     "text": [
      "(6, 3)\n"
     ]
    }
   ],
   "source": [
    "x = np.array([ [67, 63, 87],\n",
    "               [77, 69, 59],\n",
    "               [85, 87, 99],\n",
    "               [79, 72, 71],\n",
    "               [63, 89, 93],\n",
    "               [68, 92, 78]])\n",
    "print(np.shape(x))"
   ]
  },
  {
   "cell_type": "markdown",
   "metadata": {},
   "source": [
    "<img align=\"left\" class = \"cell\" src=\"http://www.python-course.eu/images/axis.jpeg\">"
   ]
  },
  {
   "cell_type": "code",
   "execution_count": 24,
   "metadata": {},
   "outputs": [
    {
     "name": "stdout",
     "output_type": "stream",
     "text": [
      "[[ -1.44120245e-01   6.34816391e-02  -2.62487327e-02  -3.07029728e-01\n",
      "   -3.40941952e-01  -1.73997919e-01  -4.65132174e-01  -1.13672518e-01\n",
      "    3.28997630e-01   4.85671969e-01  -3.23417013e-01   6.67687503e-02\n",
      "   -4.70068031e-01   4.86235103e-01  -4.76746208e-01   1.12870534e-01\n",
      "    2.98208655e-01  -1.94066899e-01  -2.20318387e-01   1.48701118e-01]\n",
      " [ -3.60541602e-01   2.24879517e-02  -1.88091121e-01   3.09620569e-01\n",
      "   -5.65411181e-02   4.87654806e-01  -8.67019761e-04   2.70791353e-01\n",
      "    4.27839819e-01  -4.26735048e-03  -2.78375219e-01  -4.54646132e-02\n",
      "   -9.74744047e-02   2.06763576e-01   3.59437965e-01   8.01552897e-02\n",
      "   -4.71637233e-02   3.57519450e-01  -2.89600278e-01   3.34960966e-01]\n",
      " [ -4.82428791e-02  -2.33695496e-01  -4.06235742e-01   4.98661898e-01\n",
      "    2.84692051e-02   4.19944117e-01  -5.57578578e-02  -3.38595735e-01\n",
      "   -3.98185509e-01   1.15937975e-01   1.48393650e-01   4.46394624e-01\n",
      "   -1.04224668e-01   4.08806210e-01   1.70563227e-01   5.72390601e-02\n",
      "    3.57776238e-02  -3.57020747e-01  -2.49850737e-01   3.21091058e-01]\n",
      " [  3.88431613e-01   9.28597701e-02  -1.52944020e-01   3.13015591e-01\n",
      "   -3.32894402e-01   3.58241807e-01   1.80759126e-01  -1.84477022e-02\n",
      "    1.99524165e-01   2.97709494e-01   2.06718266e-01   4.53244703e-01\n",
      "   -3.99785190e-01  -3.79492096e-01  -2.44429587e-01   4.52091227e-01\n",
      "    8.49789831e-02  -1.43556369e-01  -3.87209102e-01   3.87515765e-01]\n",
      " [  3.44885569e-01  -1.45344987e-01  -2.91586328e-01  -2.42674240e-01\n",
      "    1.98366541e-01  -3.23025361e-01   7.33479661e-02  -3.59188706e-01\n",
      "    1.21155337e-01  -3.99178306e-01  -3.89441323e-01   4.91179682e-01\n",
      "    3.52063398e-01  -3.46083504e-01   3.61292353e-01   1.45883800e-01\n",
      "   -1.46242240e-02   3.99104289e-01   9.61039366e-02  -3.90739576e-02]\n",
      " [  4.50601409e-01  -1.55077216e-01  -6.79496871e-02  -3.57926627e-01\n",
      "   -1.39462907e-01  -1.84795945e-01  -3.71205197e-01  -4.07492856e-01\n",
      "   -2.28991004e-01   2.07523554e-01   3.32286107e-01  -6.40005630e-02\n",
      "    2.37085906e-01   4.39072953e-01  -4.33315242e-01   4.55259160e-01\n",
      "    1.99942012e-01  -3.51546480e-01  -2.54526615e-01  -3.23917827e-01]\n",
      " [ -2.40402076e-01   3.47523818e-01  -1.70800808e-02   3.79853294e-01\n",
      "    2.48894908e-01   4.67249202e-01  -1.49803512e-01  -2.58689026e-01\n",
      "   -1.55665998e-01   2.36007064e-02   3.12437832e-01   3.10204895e-01\n",
      "   -2.28421356e-01  -2.41263590e-02  -4.95248005e-01  -4.99493081e-02\n",
      "   -2.82854245e-01  -3.23269696e-01   4.31474040e-02   8.07183955e-03]\n",
      " [ -8.29274502e-03   5.10511269e-02  -3.39215056e-01  -3.73631533e-01\n",
      "   -4.87887172e-01  -2.44822324e-01  -3.73609801e-01  -4.21330209e-01\n",
      "    5.88426122e-02   2.26679194e-02   1.63481197e-01  -7.15133086e-02\n",
      "    3.92945333e-01   4.17806666e-01  -4.81203787e-01  -3.72744892e-02\n",
      "   -3.97787794e-02   4.72107790e-01  -3.41807021e-01  -2.33797633e-01]\n",
      " [ -7.52670061e-02  -3.75789616e-01  -1.14089899e-01  -2.03975875e-01\n",
      "    9.15478603e-02   3.54826250e-02   8.85752050e-02   3.56150800e-01\n",
      "   -2.16677890e-01  -4.29205717e-02  -4.34628414e-01  -1.84891444e-01\n",
      "   -4.12658863e-01  -3.28457674e-01   4.75719948e-01  -3.25277534e-01\n",
      "   -1.19442146e-01  -2.42889578e-01  -1.34088563e-01   3.38068983e-01]\n",
      " [  2.23069928e-01  -3.24090520e-01   4.13678600e-01   3.07639521e-01\n",
      "    2.79190204e-01  -4.39908097e-01  -2.54740782e-01   3.79490982e-01\n",
      "   -2.62206358e-02   1.16511225e-01   1.57059929e-01   3.23910673e-01\n",
      "    3.66238009e-01  -3.94044505e-01   1.02110851e-01   2.62366504e-01\n",
      "    6.50266642e-02  -3.61696586e-01   4.92671969e-01  -1.08200263e-01]\n",
      " [  7.85579484e-03  -2.12607486e-01   1.61588553e-01  -2.37468530e-02\n",
      "   -2.76425302e-01  -1.18210311e-01   1.65190372e-01   9.60949003e-06\n",
      "   -1.38119510e-01   1.28556393e-01   2.19295086e-01   2.06218358e-01\n",
      "    3.45452807e-02  -1.13347082e-01   2.93821405e-01  -1.32507395e-01\n",
      "    4.07155263e-01   3.80427789e-01  -4.78957352e-01   6.90355402e-02]\n",
      " [ -3.48326341e-01   1.46393301e-01   4.24889247e-01  -1.33199364e-02\n",
      "   -2.62587106e-01  -3.73238120e-02  -6.45958496e-02   2.18908058e-01\n",
      "   -2.35092442e-01   6.68449216e-02  -1.15140655e-01   4.13105263e-01\n",
      "   -4.97430875e-01   4.25159662e-01  -3.38017544e-01   1.58173901e-01\n",
      "    3.70204060e-01  -3.23775054e-01  -4.24957247e-01  -3.48065027e-01]\n",
      " [  4.87933076e-01   3.29289140e-01   2.47270861e-01  -3.02317017e-01\n",
      "    2.96346324e-01  -4.12763524e-01  -4.86074592e-01   5.13908457e-02\n",
      "   -2.02608103e-01   1.65524528e-01  -2.71930356e-01   4.78083564e-01\n",
      "    6.13752825e-02  -3.09401226e-02   1.18426652e-01   2.59335645e-01\n",
      "   -4.35993866e-01  -3.96935655e-01   3.35394279e-01  -2.35119566e-01]\n",
      " [  2.70873557e-01   1.68626964e-01   2.98186957e-01  -1.09255329e-01\n",
      "    3.95732376e-01  -4.26375719e-01  -1.88417977e-01  -6.47138684e-02\n",
      "    2.25730525e-02  -4.42825066e-01  -3.48172749e-02   4.67617879e-01\n",
      "    3.20170175e-01   1.86483067e-01   2.70254626e-01  -2.12442527e-01\n",
      "   -5.79482935e-02   4.09176198e-02   2.36624863e-02  -3.64553961e-01]\n",
      " [ -3.16396189e-01   2.63867837e-01  -4.47007253e-01   2.42053978e-01\n",
      "   -2.47468131e-01  -3.31769290e-01  -2.82921772e-01   3.27900122e-01\n",
      "    4.58724346e-01  -2.56060215e-01   4.27898485e-01   2.46694362e-01\n",
      "    3.81324318e-01   1.84413297e-01  -1.21325302e-01  -2.34721798e-01\n",
      "    1.67889903e-01  -4.24705188e-01   7.15439558e-02   4.71199157e-01]\n",
      " [ -4.71961195e-01  -3.84854683e-01   3.10137038e-01  -1.66399652e-01\n",
      "    3.26506919e-01  -4.04901886e-01  -4.92507040e-01   4.92448848e-01\n",
      "   -7.28161855e-02  -2.07556473e-01   4.99900438e-01   4.43988872e-01\n",
      "    1.88972017e-02   1.54556292e-01  -2.67732852e-01   8.61196286e-02\n",
      "   -1.63189177e-01   1.60747851e-01  -1.56794453e-01   1.63287805e-02]\n",
      " [  3.00018777e-01  -3.94758854e-01  -3.80159231e-01   9.74503671e-02\n",
      "   -1.97492380e-01   2.51222428e-01   8.36055908e-03  -9.23347255e-02\n",
      "    4.23350290e-02  -3.12617292e-01  -2.94574261e-01   3.61297047e-01\n",
      "   -2.19967105e-01  -2.31388245e-01  -1.74912054e-01  -1.76143814e-01\n",
      "   -2.87525904e-01  -2.85502437e-01  -3.56599372e-01  -1.34409046e-01]\n",
      " [  1.42693762e-01  -1.25950733e-02  -1.13290214e-03  -4.43272317e-01\n",
      "    4.49379221e-01  -2.41988963e-01   2.83035983e-01  -1.14000867e-01\n",
      "    1.28723701e-01   8.39082141e-02   2.66363555e-01   1.41084634e-01\n",
      "    4.04488346e-01   5.38533918e-04   2.74364185e-01  -3.46735751e-01\n",
      "    4.78704451e-01   2.76241504e-01  -3.12636381e-01   1.63717820e-01]\n",
      " [  1.13316930e-01   6.93951963e-02   1.90524752e-01   1.76628128e-01\n",
      "   -1.09299915e-01   1.03337498e-01   3.99673441e-01  -2.26393992e-01\n",
      "    1.04820338e-01  -4.09516553e-01  -3.17249765e-01  -2.43114659e-01\n",
      "    2.35633721e-01   3.56879882e-01   1.26596597e-01  -2.74032143e-01\n",
      "    3.84944122e-01  -3.14113352e-01  -4.35508781e-03   4.63946784e-01]\n",
      " [  4.41127584e-01   3.99428538e-01  -3.88324577e-01   1.91796221e-02\n",
      "   -3.65000723e-02   4.51931542e-01   2.90758428e-01  -4.17825031e-01\n",
      "   -1.15784741e-01   3.71728448e-01   3.33376873e-01   3.82730995e-01\n",
      "   -2.77202005e-01   6.05455793e-02   5.31346668e-02   1.98336369e-01\n",
      "    2.74988697e-01  -4.72159431e-01  -6.58298098e-02  -3.22774173e-02]]\n"
     ]
    }
   ],
   "source": [
    "#Hinton Diagram\n",
    "def hinton(matrix, max_weight=None, ax=None):\n",
    "    \"\"\"Draw Hinton diagram for visualizing a weight matrix.\"\"\"\n",
    "    ax = ax if ax is not None else plt.gca()\n",
    "\n",
    "    if not max_weight:\n",
    "        max_weight = 2**np.ceil(np.log(np.abs(matrix).max())/np.log(2))\n",
    "\n",
    "    ax.patch.set_facecolor('gray')\n",
    "    ax.set_aspect('equal', 'box')\n",
    "    ax.xaxis.set_major_locator(plt.NullLocator())\n",
    "    ax.yaxis.set_major_locator(plt.NullLocator())\n",
    "\n",
    "    for (x, y), w in np.ndenumerate(matrix):\n",
    "        color = 'white' if w > 0 else 'black'\n",
    "        size = np.sqrt(np.abs(w))\n",
    "        rect = plt.Rectangle([x - size / 2, y - size / 2], size, size,\n",
    "        facecolor=color, edgecolor=color)\n",
    "        ax.add_patch(rect)\n",
    "\n",
    "    ax.autoscale_view()\n",
    "    ax.invert_yaxis()\n",
    "\n",
    "arr =  np.random.rand(20, 20) - 0.5   \n",
    "print(arr)"
   ]
  },
  {
   "cell_type": "code",
   "execution_count": 23,
   "metadata": {},
   "outputs": [
    {
     "data": {
      "image/png": "[encoded data removed]",
      "text/plain": [
       "<matplotlib.figure.Figure at 0x7f3011013eb8>"
      ]
     },
     "metadata": {},
     "output_type": "display_data"
    }
   ],
   "source": [
    "hinton(arr)\n",
    "plt.show()"
   ]
  },
  {
   "cell_type": "code",
   "execution_count": 25,
   "metadata": {},
   "outputs": [
    {
     "name": "stdout",
     "output_type": "stream",
     "text": [
      "[[13 14 15]\n",
      " [23 24 25]\n",
      " [33 34 35]]\n"
     ]
    }
   ],
   "source": [
    "#Indexing and Slicing\n",
    "    # for 1 dimensional array \n",
    "    # A[start:stop:step]\n",
    "\n",
    "A = np.array([\n",
    "[11,12,13,14,15],\n",
    "[21,22,23,24,25],\n",
    "[31,32,33,34,35],\n",
    "[41,42,43,44,45],\n",
    "[51,52,53,54,55]])\n",
    "print(A[:3,2:])"
   ]
  },
  {
   "cell_type": "markdown",
   "metadata": {},
   "source": [
    "<img align=\"left\" src=\"http://www.python-course.eu/images/slicing1.png\">"
   ]
  },
  {
   "cell_type": "code",
   "execution_count": 26,
   "metadata": {},
   "outputs": [
    {
     "name": "stdout",
     "output_type": "stream",
     "text": [
      "[[41 42 43 44 45]\n",
      " [51 52 53 54 55]]\n"
     ]
    }
   ],
   "source": [
    "print(A[3:,:])"
   ]
  },
  {
   "cell_type": "markdown",
   "metadata": {},
   "source": [
    "<img align=\"left\" src=\"http://www.python-course.eu/images/slicing2.png\">"
   ]
  },
  {
   "cell_type": "code",
   "execution_count": 28,
   "metadata": {},
   "outputs": [
    {
     "name": "stdout",
     "output_type": "stream",
     "text": [
      "[[15]\n",
      " [25]\n",
      " [35]\n",
      " [45]\n",
      " [55]]\n"
     ]
    }
   ],
   "source": [
    "print(A[:,4:])"
   ]
  },
  {
   "cell_type": "markdown",
   "metadata": {},
   "source": [
    "<img align=\"left\" src=\"http://www.python-course.eu/images/slicing3.png\">"
   ]
  },
  {
   "cell_type": "code",
   "execution_count": 29,
   "metadata": {},
   "outputs": [
    {
     "name": "stdout",
     "output_type": "stream",
     "text": [
      "[[ 0  1  2  3  4  5  6]\n",
      " [ 7  8  9 10 11 12 13]\n",
      " [14 15 16 17 18 19 20]\n",
      " [21 22 23 24 25 26 27]]\n"
     ]
    }
   ],
   "source": [
    "X = np.arange(28).reshape(4,7)\n",
    "print(X)"
   ]
  },
  {
   "cell_type": "code",
   "execution_count": 30,
   "metadata": {},
   "outputs": [
    {
     "name": "stdout",
     "output_type": "stream",
     "text": [
      "[[ 0  3  6]\n",
      " [14 17 20]]\n"
     ]
    }
   ],
   "source": [
    "print(X[::2, ::3])"
   ]
  },
  {
   "cell_type": "markdown",
   "metadata": {},
   "source": [
    "<img align=\"left\" src=\"http://www.python-course.eu/images/slicing4.png\">"
   ]
  },
  {
   "cell_type": "code",
   "execution_count": 31,
   "metadata": {},
   "outputs": [
    {
     "name": "stdout",
     "output_type": "stream",
     "text": [
      "[[ 0  3  6]\n",
      " [ 7 10 13]\n",
      " [14 17 20]\n",
      " [21 24 27]]\n"
     ]
    }
   ],
   "source": [
    "print(X[::, ::3])"
   ]
  },
  {
   "cell_type": "markdown",
   "metadata": {},
   "source": [
    "<img align=\"left\" src=\"http://www.python-course.eu/images/slicing5.png\">"
   ]
  },
  {
   "cell_type": "code",
   "execution_count": 32,
   "metadata": {},
   "outputs": [
    {
     "data": {
      "text/plain": [
       "True"
      ]
     },
     "execution_count": 32,
     "metadata": {},
     "output_type": "execute_result"
    }
   ],
   "source": [
    "#If you want to check, if two array names share the same memory block, you can use the function np.may_share_memory\n",
    "#Ex:\n",
    "\n",
    "A = np.array([0, 1, 2, 3, 4, 5, 6, 7, 8, 9])\n",
    "S = A[2:6]\n",
    "np.may_share_memory(A,S)\n"
   ]
  },
  {
   "cell_type": "code",
   "execution_count": 33,
   "metadata": {},
   "outputs": [
    {
     "name": "stdout",
     "output_type": "stream",
     "text": [
      "139844408000384\n",
      "139844419670224\n"
     ]
    }
   ],
   "source": [
    "print(id(A))\n",
    "print(id(S))"
   ]
  },
  {
   "cell_type": "code",
   "execution_count": 35,
   "metadata": {},
   "outputs": [
    {
     "data": {
      "text/plain": [
       "array([[ 0.,  0.,  0.],\n",
       "       [ 0.,  0.,  0.],\n",
       "       [ 0.,  0.,  0.]])"
      ]
     },
     "execution_count": 35,
     "metadata": {},
     "output_type": "execute_result"
    }
   ],
   "source": [
    "#Arrays of Ones and of Zeros\n",
    "Z = np.zeros([3,3])\n",
    "Z"
   ]
  },
  {
   "cell_type": "code",
   "execution_count": 37,
   "metadata": {},
   "outputs": [
    {
     "data": {
      "text/plain": [
       "array([[ 1.,  1.,  1.,  1.],\n",
       "       [ 1.,  1.,  1.,  1.],\n",
       "       [ 1.,  1.,  1.,  1.]])"
      ]
     },
     "execution_count": 37,
     "metadata": {},
     "output_type": "execute_result"
    }
   ],
   "source": [
    "E = np.ones([3,4])\n",
    "E"
   ]
  },
  {
   "cell_type": "code",
   "execution_count": 39,
   "metadata": {},
   "outputs": [
    {
     "data": {
      "text/plain": [
       "array([[1, 1, 1, 1],\n",
       "       [1, 1, 1, 1],\n",
       "       [1, 1, 1, 1]])"
      ]
     },
     "execution_count": 39,
     "metadata": {},
     "output_type": "execute_result"
    }
   ],
   "source": [
    "F = np.ones([3,4],dtype=int)\n",
    "F"
   ]
  },
  {
   "cell_type": "code",
   "execution_count": 40,
   "metadata": {},
   "outputs": [
    {
     "data": {
      "text/plain": [
       "array([[ 1.,  0.,  0.,  0.],\n",
       "       [ 0.,  1.,  0.,  0.],\n",
       "       [ 0.,  0.,  1.,  0.],\n",
       "       [ 0.,  0.,  0.,  1.]])"
      ]
     },
     "execution_count": 40,
     "metadata": {},
     "output_type": "execute_result"
    }
   ],
   "source": [
    "#Identity Array\n",
    "np.identity(4)"
   ]
  },
  {
   "cell_type": "code",
   "execution_count": 42,
   "metadata": {},
   "outputs": [
    {
     "data": {
      "text/plain": [
       "array([[1, 0, 0, 0],\n",
       "       [0, 1, 0, 0],\n",
       "       [0, 0, 1, 0],\n",
       "       [0, 0, 0, 1]])"
      ]
     },
     "execution_count": 42,
     "metadata": {},
     "output_type": "execute_result"
    }
   ],
   "source": [
    "np.identity(4, dtype=int)"
   ]
  },
  {
   "cell_type": "code",
   "execution_count": 43,
   "metadata": {},
   "outputs": [
    {
     "data": {
      "text/plain": [
       "array([[0, 1, 0, 0, 0, 0, 0, 0],\n",
       "       [0, 0, 1, 0, 0, 0, 0, 0],\n",
       "       [0, 0, 0, 1, 0, 0, 0, 0],\n",
       "       [0, 0, 0, 0, 1, 0, 0, 0],\n",
       "       [0, 0, 0, 0, 0, 1, 0, 0]])"
      ]
     },
     "execution_count": 43,
     "metadata": {},
     "output_type": "execute_result"
    }
   ],
   "source": [
    "#Eye\n",
    "#eye(N, M=None, k=0, dtype=float)\n",
    "\n",
    "np.eye(5, 8, k=1, dtype=int)"
   ]
  },
  {
   "cell_type": "markdown",
   "metadata": {},
   "source": [
    "<img align=\"left\" src=\"http://www.python-course.eu/images/eye_principle_of_operation.png\">"
   ]
  },
  {
   "cell_type": "code",
   "execution_count": 69,
   "metadata": {},
   "outputs": [
    {
     "name": "stdout",
     "output_type": "stream",
     "text": [
      "[ 5  9 13 17 21 25 29 33 37 41 45 49 53]\n",
      "[ 9 17 25 33 41 49]\n",
      "[53 49 45 41 37 33 29 25 21 17 13  9  5]\n",
      "[[ 0  1  2  3]\n",
      " [ 4  5  6  7]\n",
      " [ 8  9 10 11]\n",
      " [12 13 14 15]\n",
      " [16 17 18 19]\n",
      " [20 21 22 23]]\n",
      "[[ 3  2  1  0]\n",
      " [ 7  6  5  4]\n",
      " [11 10  9  8]\n",
      " [15 14 13 12]\n",
      " [19 18 17 16]\n",
      " [23 22 21 20]]\n",
      "[[20 21 22 23]\n",
      " [16 17 18 19]\n",
      " [12 13 14 15]\n",
      " [ 8  9 10 11]\n",
      " [ 4  5  6  7]\n",
      " [ 0  1  2  3]]\n",
      "[[23 22 21 20]\n",
      " [19 18 17 16]\n",
      " [15 14 13 12]\n",
      " [11 10  9  8]\n",
      " [ 7  6  5  4]\n",
      " [ 3  2  1  0]]\n",
      "[[ 5  6]\n",
      " [ 9 10]\n",
      " [13 14]\n",
      " [17 18]]\n",
      "[[ 5  6]\n",
      " [ 9 10]\n",
      " [13 14]\n",
      " [17 18]]\n"
     ]
    }
   ],
   "source": [
    "#Create an arbitrary one dimensional array called \"v\".\n",
    "v = np.arange(5,56,4)\n",
    "print(v)\n",
    "\n",
    "#Create a new array which consists of the odd indices of previously created array \"v\"\n",
    "nv = v[1::2]\n",
    "print(nv)\n",
    "\n",
    "#Create a new array in backwards ordering from v.\n",
    "bv = v[::-1]\n",
    "print(bv)\n",
    "\n",
    "#Create a two dimensional array called \"m\".\n",
    "m = np.arange(24).reshape(6,4)\n",
    "print(m)\n",
    "\n",
    "#Create a new array from m, in which the elements of each row are in reverse order. #aka shuffling the cols\n",
    "nm = m[::,::-1]\n",
    "print(nm)\n",
    "\n",
    "#Another one, where the rows are in reverse order.\n",
    "nm1 = m[::-1]\n",
    "print(nm1)\n",
    "\n",
    "#Create an array from m, where columns and rows are in reverse order.\n",
    "nm2 = m[::-1,::-1]\n",
    "print(nm2)\n",
    "\n",
    "# Cut of the first and last row and the first and last column.\n",
    "print(m[1:len(m)-1,1:m.shape[1]-1])\n",
    "#or\n",
    "print(m[1:-1,1:-1])"
   ]
  },
  {
   "cell_type": "code",
   "execution_count": 70,
   "metadata": {},
   "outputs": [
    {
     "name": "stdout",
     "output_type": "stream",
     "text": [
      "int16\n",
      "[[ 3  8  9]\n",
      " [ 1 -7  0]\n",
      " [ 4 12  4]]\n"
     ]
    }
   ],
   "source": [
    "#dtype\n",
    "i16 = np.dtype(np.int16)\n",
    "print(i16)\n",
    "lst = [ [3.4, 8.7, 9.9], \n",
    "        [1.1, -7.8, -0.7],\n",
    "        [4.1, 12.3, 4.8] ]\n",
    "A = np.array(lst, dtype=i16)\n",
    "print(A)"
   ]
  },
  {
   "cell_type": "code",
   "execution_count": 71,
   "metadata": {},
   "outputs": [
    {
     "name": "stdout",
     "output_type": "stream",
     "text": [
      "[(393,) (337,) (256,)]\n",
      "\n",
      "The internal representation:\n",
      "array([(393,), (337,), (256,)], \n",
      "      dtype=[('density', '<i4')])\n"
     ]
    }
   ],
   "source": [
    "# Note np.int32 is same as using '<i4' ie. dt = np.dtype([('density','i4)])\n",
    "dt = np.dtype([('density', np.int32)])\n",
    "x = np.array([(393,), (337,), (256,)],\n",
    "             dtype=dt)\n",
    "print(x)\n",
    "print(\"\\nThe internal representation:\")\n",
    "print(repr(x))"
   ]
  },
  {
   "cell_type": "code",
   "execution_count": 74,
   "metadata": {},
   "outputs": [
    {
     "name": "stdout",
     "output_type": "stream",
     "text": [
      "[393 337 256]\n"
     ]
    }
   ],
   "source": [
    "print(x['density'])"
   ]
  },
  {
   "cell_type": "code",
   "execution_count": 75,
   "metadata": {},
   "outputs": [
    {
     "name": "stdout",
     "output_type": "stream",
     "text": [
      "float64 = 8\n",
      "float64 > 8\n",
      "float64 = 8\n"
     ]
    }
   ],
   "source": [
    "dt = np.dtype('<d') \n",
    "print(dt.name, dt.byteorder, dt.itemsize)\n",
    "dt = np.dtype('>d')  \n",
    "print(dt.name, dt.byteorder, dt.itemsize)\n",
    "dt = np.dtype('d') \n",
    "print(dt.name, dt.byteorder, dt.itemsize)"
   ]
  },
  {
   "cell_type": "code",
   "execution_count": 76,
   "metadata": {},
   "outputs": [
    {
     "name": "stdout",
     "output_type": "stream",
     "text": [
      "[(b'Netherlands', 393,  41526, 16928800)\n",
      " (b'Belgium', 337,  30510, 11007020)\n",
      " (b'United Kingdom', 256, 243610, 62262000)\n",
      " (b'Germany', 233, 357021, 81799600)]\n"
     ]
    }
   ],
   "source": [
    "dt = np.dtype([('country', 'S20'), ('density', 'i4'), ('area', 'i4'), ('population', 'i4')])\n",
    "x = np.array([('Netherlands', 393, 41526, 16928800),\n",
    "              ('Belgium', 337, 30510, 11007020),\n",
    "              ('United Kingdom', 256, 243610, 62262000),\n",
    "              ('Germany', 233, 357021, 81799600),\n",
    "              ('Liechtenstein', 205, 160, 32842),\n",
    "              ('Italy', 192, 301230, 59715625),\n",
    "              ('Switzerland', 177, 41290, 7301994),\n",
    "              ('Luxembourg', 173, 2586, 512000),\n",
    "              ('France', 111, 547030, 63601002),\n",
    "              ('Austria', 97, 83858, 8169929),\n",
    "              ('Greece', 81, 131940, 11606813),\n",
    "              ('Ireland', 65, 70280, 4581269),\n",
    "              ('Sweden', 20, 449964, 9515744),\n",
    "              ('Finland', 16, 338424, 5410233),\n",
    "              ('Norway', 13, 385252, 5033675)],\n",
    "                             dtype=dt)\n",
    "print(x[:4])"
   ]
  },
  {
   "cell_type": "code",
   "execution_count": 77,
   "metadata": {},
   "outputs": [
    {
     "name": "stdout",
     "output_type": "stream",
     "text": [
      "[393 337 256 233 205 192 177 173 111  97  81  65  20  16  13]\n",
      "[b'Netherlands' b'Belgium' b'United Kingdom' b'Germany' b'Liechtenstein'\n",
      " b'Italy' b'Switzerland' b'Luxembourg' b'France' b'Austria' b'Greece'\n",
      " b'Ireland' b'Sweden' b'Finland' b'Norway']\n",
      "[243610 357021    160]\n"
     ]
    }
   ],
   "source": [
    "#We can acces every column individually:\n",
    "print(x['density'])\n",
    "print(x['country'])\n",
    "print(x['area'][2:5])"
   ]
  },
  {
   "cell_type": "code",
   "execution_count": 80,
   "metadata": {},
   "outputs": [
    {
     "data": {
      "text/plain": [
       "array([(b'Netherlands', 393,  41526, 16928800),\n",
       "       (b'Belgium', 337,  30510, 11007020),\n",
       "       (b'United Kingdom', 256, 243610, 62262000),\n",
       "       (b'Germany', 233, 357021, 81799600),\n",
       "       (b'Liechtenstein', 205,    160,    32842),\n",
       "       (b'Italy', 192, 301230, 59715625),\n",
       "       (b'Switzerland', 177,  41290,  7301994),\n",
       "       (b'Luxembourg', 173,   2586,   512000),\n",
       "       (b'France', 111, 547030, 63601002),\n",
       "       (b'Austria',  97,  83858,  8169929),\n",
       "       (b'Greece',  81, 131940, 11606813),\n",
       "       (b'Ireland',  65,  70280,  4581269),\n",
       "       (b'Sweden',  20, 449964,  9515744),\n",
       "       (b'Finland',  16, 338424,  5410233),\n",
       "       (b'Norway',  13, 385252,  5033675)], \n",
       "      dtype=[('country', 'S20'), ('density', '<i4'), ('area', '<i4'), ('population', '<i4')])"
      ]
     },
     "execution_count": 80,
     "metadata": {},
     "output_type": "execute_result"
    }
   ],
   "source": [
    "x"
   ]
  },
  {
   "cell_type": "code",
   "execution_count": 81,
   "metadata": {},
   "outputs": [
    {
     "name": "stdout",
     "output_type": "stream",
     "text": [
      "[((11, 42, 17),  20.8) ((13, 19,  3),  23.2)]\n",
      "[(11, 42, 17) (13, 19,  3)]\n",
      "[11 13]\n",
      "[ 20.8  23.2]\n"
     ]
    }
   ],
   "source": [
    "time_type = np.dtype( np.dtype([('time', [('h', int), ('min', int), ('sec', int)]),\n",
    "                                ('temperature', float)] ))\n",
    "times = np.array( [((11, 42, 17), 20.8), ((13, 19, 3), 23.2) ], dtype=time_type)\n",
    "print(times)\n",
    "print(times['time'])\n",
    "print(times['time']['h'])\n",
    "print(times['temperature'])"
   ]
  },
  {
   "cell_type": "code",
   "execution_count": 95,
   "metadata": {},
   "outputs": [
    {
     "name": "stdout",
     "output_type": "stream",
     "text": [
      "[  4.     5.     9.9    5.3    8.9    2.11  12.3   14.9 ]\n"
     ]
    }
   ],
   "source": [
    "#Numerical Operations on Numpy Arrays\n",
    "#Using Scalars\n",
    "\n",
    "lst = [2,3, 7.9, 3.3, 6.9, 0.11, 10.3, 12.9]\n",
    "v = np.array(lst)\n",
    "v = v + 2\n",
    "print(v)\n"
   ]
  },
  {
   "cell_type": "code",
   "execution_count": 96,
   "metadata": {},
   "outputs": [
    {
     "name": "stdout",
     "output_type": "stream",
     "text": [
      "[  8.8    11.     21.78   11.66   19.58    4.642  27.06   32.78 ]\n",
      "[  2.62   3.62   8.52   3.92   7.52   0.73  10.92  13.52]\n",
      "[  16.       25.       98.01     28.09     79.21      4.4521  151.29\n",
      "  222.01  ]\n",
      "[  8.          11.18033989  31.14962279  12.2015163   26.55125232\n",
      "   3.06495204  43.13776768  57.51477202]\n"
     ]
    }
   ],
   "source": [
    "print(v * 2.2)\n",
    "print(v - 1.38)\n",
    "print(v ** 2)\n",
    "print(v ** 1.5)"
   ]
  },
  {
   "cell_type": "code",
   "execution_count": 110,
   "metadata": {},
   "outputs": [
    {
     "name": "stdout",
     "output_type": "stream",
     "text": [
      "Adding two arrays: \n",
      "[[ 12.  13.  14.]\n",
      " [ 22.  23.  24.]\n",
      " [ 32.  33.  34.]]\n"
     ]
    }
   ],
   "source": [
    "#Arithmetic Operations with two Arrays\n",
    "A = np.array([ [11, 12, 13], [21, 22, 23], [31, 32, 33] ])\n",
    "B = np.ones((3,3))\n",
    "print(\"Adding two arrays: \")\n",
    "print(A + B)"
   ]
  },
  {
   "cell_type": "code",
   "execution_count": 99,
   "metadata": {},
   "outputs": [
    {
     "data": {
      "text/plain": [
       "array([[ 36.,  36.,  36.],\n",
       "       [ 66.,  66.,  66.],\n",
       "       [ 96.,  96.,  96.]])"
      ]
     },
     "execution_count": 99,
     "metadata": {},
     "output_type": "execute_result"
    }
   ],
   "source": [
    "#Matrix Multiplication\n",
    "np.dot(A, B)"
   ]
  },
  {
   "cell_type": "code",
   "execution_count": 102,
   "metadata": {},
   "outputs": [
    {
     "name": "stdout",
     "output_type": "stream",
     "text": [
      "12\n",
      "1\n",
      "12\n",
      "-14\n"
     ]
    }
   ],
   "source": [
    "print(np.dot(3, 4))\n",
    "x = np.array([3])\n",
    "y = np.array([4])\n",
    "print(x.ndim)\n",
    "print(np.dot(x, y))\n",
    "x = np.array([3, -2])\n",
    "y = np.array([-4, 1])\n",
    "print(np.dot(x, y))"
   ]
  },
  {
   "cell_type": "code",
   "execution_count": 103,
   "metadata": {},
   "outputs": [
    {
     "name": "stdout",
     "output_type": "stream",
     "text": [
      "The shapes:\n",
      "(3, 3, 3)\n",
      "(3, 3, 3)\n",
      "(3, 3, 3, 3)\n",
      "\n",
      "The Result R:\n",
      "[[[[14 19 15]\n",
      "   [15 15  9]\n",
      "   [13  9 18]]\n",
      "\n",
      "  [[18 24 20]\n",
      "   [20 20 12]\n",
      "   [18 12 22]]\n",
      "\n",
      "  [[15 18 22]\n",
      "   [22 13 12]\n",
      "   [21  9 14]]]\n",
      "\n",
      "\n",
      " [[[16 21 19]\n",
      "   [19 16 11]\n",
      "   [17 10 19]]\n",
      "\n",
      "  [[25 32 32]\n",
      "   [32 23 18]\n",
      "   [29 15 28]]\n",
      "\n",
      "  [[13 18 12]\n",
      "   [12 18  8]\n",
      "   [11 10 17]]]\n",
      "\n",
      "\n",
      " [[[11 14 14]\n",
      "   [14 11  8]\n",
      "   [13  7 12]]\n",
      "\n",
      "  [[17 23 19]\n",
      "   [19 16 11]\n",
      "   [16 10 22]]\n",
      "\n",
      "  [[19 25 23]\n",
      "   [23 17 13]\n",
      "   [20 11 23]]]]\n"
     ]
    }
   ],
   "source": [
    "#The dot Product in the 3-dimensional Case\n",
    "\n",
    "X = np.array( [[[3, 1, 2],\n",
    "                [4, 2, 2],\n",
    "                [2, 4, 1]],\n",
    "               \n",
    "               [[3, 2, 2],\n",
    "                [4, 4, 3],\n",
    "                [4, 1, 1]],\n",
    "               \n",
    "               [[2, 2, 1],\n",
    "                [3, 1, 3],\n",
    "                [3, 2, 3]]])\n",
    "\n",
    "Y = np.array( [[[2, 3, 1],\n",
    "                [2, 2, 4],\n",
    "                [3, 4, 4]],\n",
    "            \n",
    "               [[1, 4, 1],\n",
    "                [4, 1, 2],\n",
    "                [4, 1, 2]],\n",
    "            \n",
    "               [[1, 2, 3],\n",
    "                [4, 1, 1],\n",
    "                [3, 1, 4]]])\n",
    "R = np.dot(X, Y)\n",
    "print(\"The shapes:\")\n",
    "print(X.shape)\n",
    "print(Y.shape)\n",
    "print(R.shape)\n",
    "print(\"\\nThe Result R:\")\n",
    "print(R)\n"
   ]
  },
  {
   "cell_type": "code",
   "execution_count": 104,
   "metadata": {},
   "outputs": [
    {
     "name": "stdout",
     "output_type": "stream",
     "text": [
      "X.shape:  (4, 2, 3)    X.ndim:  3\n",
      "Y.shape:  (2, 3, 5)    Y.ndim:  3\n",
      "R.shape:  (4, 2, 2, 5) R.ndim:  4\n",
      "\n",
      "The result array R:\n",
      "\n",
      "[[[[ 14  19   5   8   1]\n",
      "   [ 15  15  10  16   3]]\n",
      "\n",
      "  [[ 18  24   8  10   2]\n",
      "   [ 20  20  14  22   2]]]\n",
      "\n",
      "\n",
      " [[[  1   1  -1  -1  -2]\n",
      "   [  3  -3  -3   1  -2]]\n",
      "\n",
      "  [[ -6  -7  -1   0   3]\n",
      "   [-11   1   2  -8   5]]]\n",
      "\n",
      "\n",
      " [[[ 16  21   7   8   1]\n",
      "   [ 19  16  11  20   0]]\n",
      "\n",
      "  [[ 25  32  12  11   1]\n",
      "   [ 32  23  16  33  -4]]]\n",
      "\n",
      "\n",
      " [[[ 11  14   6   5   1]\n",
      "   [ 14  11   8  15  -2]]\n",
      "\n",
      "  [[ 17  23   5   9   0]\n",
      "   [ 19  16  10  19   3]]]]\n"
     ]
    }
   ],
   "source": [
    "X = np.array(\n",
    "    [[[3, 1, 2],\n",
    "      [4, 2, 2]],\n",
    "     [[-1, 0, 1],\n",
    "      [1, -1, -2]],\n",
    "     \n",
    "     [[3, 2, 2],\n",
    "      [4, 4, 3]],\n",
    "     [[2, 2, 1],\n",
    "      [3, 1, 3]]])\n",
    "Y = np.array(\n",
    "    [[[2, 3, 1, 2, 1],\n",
    "      [2, 2, 2, 0, 0],\n",
    "      [3, 4, 0, 1, -1]],\n",
    "     [[1, 4, 3, 2, 2],\n",
    "      [4, 1, 1, 4, -3],\n",
    "      [4, 1, 0, 3, 0]]])\n",
    "R = np.dot(X, Y)\n",
    "print(\"X.shape: \", X.shape, \"   X.ndim: \", X.ndim)\n",
    "print(\"Y.shape: \", Y.shape, \"   Y.ndim: \", Y.ndim)\n",
    "print(\"R.shape: \",     R.shape, \"R.ndim: \", R.ndim)\n",
    "print(\"\\nThe result array R:\\n\")\n",
    "print(R)"
   ]
  },
  {
   "cell_type": "code",
   "execution_count": 105,
   "metadata": {},
   "outputs": [
    {
     "name": "stdout",
     "output_type": "stream",
     "text": [
      "    sum(X[0, 0, :] * Y[0, :, 0] :  14\n",
      "    sum(X[0, 0, :] * Y[0, :, 1] :  19\n",
      "    sum(X[0, 0, :] * Y[0, :, 2] :  5\n",
      "    sum(X[0, 0, :] * Y[0, :, 3] :  8\n",
      "    sum(X[0, 0, :] * Y[0, :, 4] :  1\n",
      "    sum(X[0, 0, :] * Y[1, :, 0] :  15\n",
      "    sum(X[0, 0, :] * Y[1, :, 1] :  15\n",
      "    sum(X[0, 0, :] * Y[1, :, 2] :  10\n",
      "    sum(X[0, 0, :] * Y[1, :, 3] :  16\n",
      "    sum(X[0, 0, :] * Y[1, :, 4] :  3\n",
      "    sum(X[0, 1, :] * Y[0, :, 0] :  18\n",
      "    sum(X[0, 1, :] * Y[0, :, 1] :  24\n",
      "    sum(X[0, 1, :] * Y[0, :, 2] :  8\n",
      "    sum(X[0, 1, :] * Y[0, :, 3] :  10\n",
      "    sum(X[0, 1, :] * Y[0, :, 4] :  2\n",
      "    sum(X[0, 1, :] * Y[1, :, 0] :  20\n",
      "    sum(X[0, 1, :] * Y[1, :, 1] :  20\n",
      "    sum(X[0, 1, :] * Y[1, :, 2] :  14\n",
      "    sum(X[0, 1, :] * Y[1, :, 3] :  22\n",
      "    sum(X[0, 1, :] * Y[1, :, 4] :  2\n"
     ]
    }
   ],
   "source": [
    "i = 0\n",
    "for j in range(X.shape[1]):\n",
    "    for k in range(Y.shape[0]):\n",
    "        for m in range(Y.shape[2]):\n",
    "            fmt = \"    sum(X[{}, {}, :] * Y[{}, :, {}] :  {}\"\n",
    "            arguments = (i, j, k, m, sum(X[i, j, :] * Y[k, :, m]))\n",
    "            print(fmt.format(*arguments))"
   ]
  },
  {
   "cell_type": "code",
   "execution_count": 106,
   "metadata": {},
   "outputs": [
    {
     "name": "stdout",
     "output_type": "stream",
     "text": [
      "[[[14 19  5  8  1]\n",
      "  [15 15 10 16  3]]\n",
      "\n",
      " [[18 24  8 10  2]\n",
      "  [20 20 14 22  2]]]\n"
     ]
    }
   ],
   "source": [
    "print(R[0])"
   ]
  },
  {
   "cell_type": "code",
   "execution_count": 107,
   "metadata": {},
   "outputs": [
    {
     "name": "stdout",
     "output_type": "stream",
     "text": [
      "True\n"
     ]
    }
   ],
   "source": [
    "R2 = np.zeros(R.shape, dtype=np.int)\n",
    "for i in range(X.shape[0]):\n",
    "    for j in range(X.shape[1]):\n",
    "        for k in range(Y.shape[0]):\n",
    "            for m in range(Y.shape[2]):\n",
    "                R2[i, j, k, m] = sum(X[i, j, :] * Y[k, :, m])\n",
    "print( np.array_equal(R, R2) )"
   ]
  },
  {
   "cell_type": "code",
   "execution_count": 108,
   "metadata": {},
   "outputs": [
    {
     "data": {
      "text/plain": [
       "array([[ True, False,  True],\n",
       "       [False,  True, False],\n",
       "       [ True,  True, False]], dtype=bool)"
      ]
     },
     "execution_count": 108,
     "metadata": {},
     "output_type": "execute_result"
    }
   ],
   "source": [
    "#Comparison Operators\n",
    "A = np.array([ [11, 12, 13], [21, 22, 23], [31, 32, 33] ])\n",
    "B = np.array([ [11, 102, 13], [201, 22, 203], [31, 32, 303] ])\n",
    "A == B"
   ]
  },
  {
   "cell_type": "code",
   "execution_count": 109,
   "metadata": {},
   "outputs": [
    {
     "name": "stdout",
     "output_type": "stream",
     "text": [
      "[[ True  True]\n",
      " [ True False]]\n",
      "[[ True False]\n",
      " [False False]]\n"
     ]
    }
   ],
   "source": [
    "#Logical Operators\n",
    "a = np.array([ [True, True], [False, False]])\n",
    "b = np.array([ [True, False], [True, False]])\n",
    "print(np.logical_or(a, b))\n",
    "print(np.logical_and(a, b))"
   ]
  },
  {
   "cell_type": "code",
   "execution_count": 111,
   "metadata": {},
   "outputs": [
    {
     "name": "stdout",
     "output_type": "stream",
     "text": [
      "Multiplication with broadcasting: \n",
      "[[11 24 39]\n",
      " [21 44 69]\n",
      " [31 64 99]]\n",
      "... and now addition with broadcasting: \n",
      "[[12 14 16]\n",
      " [22 24 26]\n",
      " [32 34 36]]\n"
     ]
    }
   ],
   "source": [
    "#Broadcasting\n",
    "A = np.array([ [11, 12, 13], [21, 22, 23], [31, 32, 33] ])\n",
    "B = np.array([1, 2, 3])\n",
    "print(\"Multiplication with broadcasting: \")\n",
    "print(A * B)\n",
    "print(\"... and now addition with broadcasting: \")\n",
    "print(A + B)\n"
   ]
  },
  {
   "cell_type": "markdown",
   "metadata": {},
   "source": [
    "<img align=\"left\" src=\"http://www.python-course.eu/images/broadcasting_example_1.png\">"
   ]
  },
  {
   "cell_type": "code",
   "execution_count": 112,
   "metadata": {},
   "outputs": [
    {
     "name": "stdout",
     "output_type": "stream",
     "text": [
      "[[1]\n",
      " [2]\n",
      " [3]]\n",
      "[[11 12 13]\n",
      " [42 44 46]\n",
      " [93 96 99]]\n"
     ]
    }
   ],
   "source": [
    "B = np.array([1, 2, 3])\n",
    "print(B[:, np.newaxis])\n",
    "print(A * B[:, np.newaxis])"
   ]
  },
  {
   "cell_type": "markdown",
   "metadata": {},
   "source": [
    "<img align=\"left\" src=\"http://www.python-course.eu/images/broadcasting_example_2.png\">"
   ]
  },
  {
   "cell_type": "code",
   "execution_count": 113,
   "metadata": {},
   "outputs": [
    {
     "name": "stdout",
     "output_type": "stream",
     "text": [
      "[[1 2 3]\n",
      " [1 2 3]\n",
      " [1 2 3]]\n",
      "Multiplication: \n",
      "[[11 24 39]\n",
      " [21 44 69]\n",
      " [31 64 99]]\n",
      "... and now addition again: \n",
      "[[12 14 16]\n",
      " [22 24 26]\n",
      " [32 34 36]]\n"
     ]
    }
   ],
   "source": [
    "A = np.array([ [11, 12, 13], [21, 22, 23], [31, 32, 33] ])\n",
    "B = np.tile(np.array([1, 2, 3]), (3, 1))\n",
    "print(B)\n",
    "print(\"Multiplication: \")\n",
    "print(A * B)\n",
    "print(\"... and now addition again: \")\n",
    "print(A + B)"
   ]
  },
  {
   "cell_type": "code",
   "execution_count": 116,
   "metadata": {},
   "outputs": [
    {
     "name": "stdout",
     "output_type": "stream",
     "text": [
      "[   0 1498 1063 1968 1498 1758 1469 1472 2230 2391 1138  505]\n",
      "[[   0 1498 1063 1968 1498 1758 1469 1472 2230 2391 1138  505]\n",
      " [1498    0  435  470    0  260   29   26  732  893  360  993]\n",
      " [1063  435    0  905  435  695  406  409 1167 1328   75  558]\n",
      " [1968  470  905    0  470  210  499  496  262  423  830 1463]\n",
      " [1498    0  435  470    0  260   29   26  732  893  360  993]\n",
      " [1758  260  695  210  260    0  289  286  472  633  620 1253]\n",
      " [1469   29  406  499   29  289    0    3  761  922  331  964]\n",
      " [1472   26  409  496   26  286    3    0  758  919  334  967]\n",
      " [2230  732 1167  262  732  472  761  758    0  161 1092 1725]\n",
      " [2391  893 1328  423  893  633  922  919  161    0 1253 1886]\n",
      " [1138  360   75  830  360  620  331  334 1092 1253    0  633]\n",
      " [ 505  993  558 1463  993 1253  964  967 1725 1886  633    0]]\n"
     ]
    }
   ],
   "source": [
    "#Distance Matrix\n",
    "\n",
    "cities = [\"Barcelona\", \"Berlin\", \"Brussels\", \"Bucharest\",\n",
    "          \"Budapest\", \"Copenhagen\", \"Dublin\", \"Hamburg\", \"Istanbul\",\n",
    "          \"Kiev\", \"London\", \"Madrid\", \"Milan\", \"Moscow\", \"Munich\",\n",
    "          \"Paris\", \"Prague\", \"Rome\", \"Saint Petersburg\", \n",
    "          \"Stockholm\", \"Vienna\", \"Warsaw\"]\n",
    "dist2barcelona = [0,  1498, 1063, 1968, \n",
    "                  1498, 1758, 1469, 1472, 2230, \n",
    "                  2391, 1138, 505, 725, 3007, 1055, \n",
    "                  833, 1354, 857, 2813, \n",
    "                  2277, 1347, 1862]\n",
    "dists =  np.array(dist2barcelona[:12])\n",
    "print(dists)\n",
    "print(np.abs(dists - dists[:, np.newaxis]))\n"
   ]
  },
  {
   "cell_type": "code",
   "execution_count": 117,
   "metadata": {},
   "outputs": [
    {
     "name": "stdout",
     "output_type": "stream",
     "text": [
      "[ 0  1  2  3  4  5  6  7  8  9 10 11 12 13 14 15 16 17 18 19 20 21 22 23]\n",
      "[ 0  1  2  3  4  5  6  7  8  9 10 11 12 13 14 15 16 17 18 19 20 21 22 23]\n",
      "[ 0  8 16  2 10 18  4 12 20  6 14 22  1  9 17  3 11 19  5 13 21  7 15 23]\n",
      "[ 0  1  2  3  4  5  6  7  8  9 10 11 12 13 14 15 16 17 18 19 20 21 22 23]\n"
     ]
    }
   ],
   "source": [
    "#Flatten and Reshape Arrays\n",
    "A = np.array([[[ 0,  1],\n",
    "               [ 2,  3],\n",
    "               [ 4,  5],\n",
    "               [ 6,  7]],\n",
    "              [[ 8,  9],\n",
    "               [10, 11],\n",
    "               [12, 13],\n",
    "               [14, 15]],\n",
    "              [[16, 17],\n",
    "               [18, 19],\n",
    "               [20, 21],\n",
    "               [22, 23]]])\n",
    "Flattened_X = A.flatten()\n",
    "print(Flattened_X)\n",
    "print(A.flatten(order=\"C\"))\n",
    "print(A.flatten(order=\"F\"))\n",
    "print(A.flatten(order=\"A\"))\n"
   ]
  },
  {
   "cell_type": "code",
   "execution_count": 118,
   "metadata": {},
   "outputs": [
    {
     "name": "stdout",
     "output_type": "stream",
     "text": [
      "[ 0  1  2  3  4  5  6  7  8  9 10 11 12 13 14 15 16 17 18 19 20 21 22 23]\n",
      "[ 0  1  2  3  4  5  6  7  8  9 10 11 12 13 14 15 16 17 18 19 20 21 22 23]\n",
      "[ 0  8 16  2 10 18  4 12 20  6 14 22  1  9 17  3 11 19  5 13 21  7 15 23]\n",
      "[ 0  1  2  3  4  5  6  7  8  9 10 11 12 13 14 15 16 17 18 19 20 21 22 23]\n",
      "[ 0  1  2  3  4  5  6  7  8  9 10 11 12 13 14 15 16 17 18 19 20 21 22 23]\n"
     ]
    }
   ],
   "source": [
    "print(A.ravel())\n",
    "print(A.ravel(order=\"C\"))\n",
    "print(A.ravel(order=\"F\"))\n",
    "print(A.ravel(order=\"A\"))\n",
    "print(A.ravel(order=\"K\"))"
   ]
  },
  {
   "cell_type": "code",
   "execution_count": 119,
   "metadata": {},
   "outputs": [
    {
     "data": {
      "text/plain": [
       "array([[[ 0,  1],\n",
       "        [ 2,  3],\n",
       "        [ 4,  5],\n",
       "        [ 6,  7]],\n",
       "\n",
       "       [[ 8,  9],\n",
       "        [10, 11],\n",
       "        [12, 13],\n",
       "        [14, 15]],\n",
       "\n",
       "       [[16, 17],\n",
       "        [18, 19],\n",
       "        [20, 21],\n",
       "        [22, 23]]])"
      ]
     },
     "execution_count": 119,
     "metadata": {},
     "output_type": "execute_result"
    }
   ],
   "source": [
    "X = np.array(range(24))\n",
    "Y = X.reshape((3,4,2))\n",
    "Y"
   ]
  },
  {
   "cell_type": "code",
   "execution_count": 120,
   "metadata": {},
   "outputs": [
    {
     "data": {
      "text/plain": [
       "array([[1, 2, 1, 2, 1, 2, 1, 2],\n",
       "       [3, 4, 3, 4, 3, 4, 3, 4],\n",
       "       [1, 2, 1, 2, 1, 2, 1, 2],\n",
       "       [3, 4, 3, 4, 3, 4, 3, 4],\n",
       "       [1, 2, 1, 2, 1, 2, 1, 2],\n",
       "       [3, 4, 3, 4, 3, 4, 3, 4]])"
      ]
     },
     "execution_count": 120,
     "metadata": {},
     "output_type": "execute_result"
    }
   ],
   "source": [
    "x = np.array([ [1, 2], [3, 4]])\n",
    "np.tile(x, (3,4))"
   ]
  },
  {
   "cell_type": "code",
   "execution_count": 121,
   "metadata": {},
   "outputs": [
    {
     "name": "stdout",
     "output_type": "stream",
     "text": [
      "[[3 4 5]\n",
      " [1 9 0]]\n",
      "[[3 1]\n",
      " [4 9]\n",
      " [5 0]]\n"
     ]
    },
    {
     "data": {
      "text/plain": [
       "(3,)"
      ]
     },
     "execution_count": 121,
     "metadata": {},
     "output_type": "execute_result"
    }
   ],
   "source": [
    "A = np.array([3, 4, 5])\n",
    "B = np.array([1,9,0])\n",
    "print(np.row_stack((A, B)))\n",
    "print(np.column_stack((A, B)))\n",
    "np.shape(A)"
   ]
  },
  {
   "cell_type": "code",
   "execution_count": 122,
   "metadata": {},
   "outputs": [
    {
     "name": "stdout",
     "output_type": "stream",
     "text": [
      "0.6127254452625689\n"
     ]
    }
   ],
   "source": [
    "#Random\n",
    "import random\n",
    "random_number = random.random()\n",
    "print(random_number)"
   ]
  },
  {
   "cell_type": "code",
   "execution_count": 123,
   "metadata": {},
   "outputs": [
    {
     "name": "stdout",
     "output_type": "stream",
     "text": [
      "0.9532255067776145\n"
     ]
    }
   ],
   "source": [
    "from random import SystemRandom\n",
    "crypto = SystemRandom()\n",
    "print(crypto.random())"
   ]
  },
  {
   "cell_type": "code",
   "execution_count": 124,
   "metadata": {},
   "outputs": [
    {
     "name": "stdout",
     "output_type": "stream",
     "text": [
      "[0.5474596347812709, 0.23588637137084523, 0.629843446942779, 0.14419612334253407, 0.5784913558961019, 0.5776552906136975, 0.4298383569469997, 0.5265015047509117, 0.29583539346238164, 0.17694442344459804]\n"
     ]
    }
   ],
   "source": [
    "def random_list(n, secure=True):\n",
    "    random_floats = []\n",
    "    if secure:\n",
    "        crypto = random.SystemRandom()\n",
    "        random_float = crypto.random\n",
    "    else:\n",
    "        random_float = random.random\n",
    "    for _ in range(n):\n",
    "        random_floats.append(random_float())\n",
    "    return random_floats\n",
    "print(random_list(10, secure=True))"
   ]
  },
  {
   "cell_type": "code",
   "execution_count": 125,
   "metadata": {},
   "outputs": [
    {
     "data": {
      "text/plain": [
       "array([ 0.66409714,  0.67986431,  0.91676849,  0.06119784,  0.57326933,\n",
       "        0.35937145,  0.48580968,  0.04659632,  0.30846994,  0.83647842])"
      ]
     },
     "execution_count": 125,
     "metadata": {},
     "output_type": "execute_result"
    }
   ],
   "source": [
    "np.random.random(10)"
   ]
  },
  {
   "cell_type": "code",
   "execution_count": 126,
   "metadata": {},
   "outputs": [
    {
     "name": "stdout",
     "output_type": "stream",
     "text": [
      "The slowest run took 21.42 times longer than the fastest. This could mean that an intermediate result is being cached.\n",
      "100000 loops, best of 3: 4.53 µs per loop\n"
     ]
    }
   ],
   "source": [
    "%%timeit\n",
    "np.random.random(100)"
   ]
  },
  {
   "cell_type": "code",
   "execution_count": 127,
   "metadata": {},
   "outputs": [
    {
     "name": "stdout",
     "output_type": "stream",
     "text": [
      "52.3738554166\n",
      "1.0\n"
     ]
    }
   ],
   "source": [
    "#Random Numbers Satisfying sum-to-one Condition\n",
    "\n",
    "list_of_random_floats = np.random.random(100)\n",
    "sum_of_values = list_of_random_floats.sum()\n",
    "print(sum_of_values)\n",
    "normalized_values = list_of_random_floats / sum_of_values\n",
    "print(normalized_values.sum())"
   ]
  },
  {
   "cell_type": "code",
   "execution_count": 128,
   "metadata": {},
   "outputs": [
    {
     "name": "stdout",
     "output_type": "stream",
     "text": [
      "Automatically generated password by Python: 05kEep0eG6HQmei\n"
     ]
    }
   ],
   "source": [
    "#Generating Random Strings or Passwords with Python\n",
    "from random import SystemRandom\n",
    "sr = SystemRandom() # create an instance of the SystemRandom class\n",
    "    \n",
    "def generate_password(length, \n",
    "                      valid_chars=None):\n",
    "    \"\"\" generate_password(length, check_char) -> password\n",
    "        length: the length of the created password\n",
    "        check_char: a Boolean function used to check the validity of a char\n",
    "    \"\"\"\n",
    "    if valid_chars==None:\n",
    "        valid_chars = \"ABCDEFGHIJKLMNOPQRSTUVWXYZ\"\n",
    "        valid_chars += valid_chars.lower() + \"0123456789\"\n",
    "    \n",
    "    password = \"\"\n",
    "    counter = 0\n",
    "    while counter < length:\n",
    "        rnum = sr.randint(0, 128)\n",
    "        char = chr(rnum)\n",
    "        if char in valid_chars:\n",
    "            password += chr(rnum)\n",
    "            counter += 1\n",
    "    return password\n",
    "print(\"Automatically generated password by Python: \" + generate_password(15))"
   ]
  },
  {
   "cell_type": "code",
   "execution_count": 129,
   "metadata": {},
   "outputs": [
    {
     "data": {
      "text/plain": [
       "[5, 6, 2, 2, 1, 1, 2, 1, 2, 6]"
      ]
     },
     "execution_count": 129,
     "metadata": {},
     "output_type": "execute_result"
    }
   ],
   "source": [
    "#rolling a virtual dice\n",
    "[ random.randint(1, 6) for _ in range(10) ]"
   ]
  },
  {
   "cell_type": "code",
   "execution_count": 130,
   "metadata": {},
   "outputs": [
    {
     "name": "stdout",
     "output_type": "stream",
     "text": [
      "[2 5 1 1 3 5 6 5 6 4]\n"
     ]
    }
   ],
   "source": [
    "outcome = np.random.randint(1, 7, size=10)\n",
    "print(outcome)"
   ]
  },
  {
   "cell_type": "code",
   "execution_count": 131,
   "metadata": {},
   "outputs": [
    {
     "name": "stdout",
     "output_type": "stream",
     "text": [
      "3\n",
      "[5]\n",
      "[3 3 4 2 5 1 1 1 3 1]\n",
      "[3 2 6 6 5 5 4 5 2 4]\n",
      "[[5 5 1 4]\n",
      " [6 1 4 5]\n",
      " [4 2 1 5]\n",
      " [5 1 5 2]\n",
      " [2 2 6 2]]\n"
     ]
    }
   ],
   "source": [
    "print(np.random.randint(1, 7))\n",
    "print(np.random.randint(1, 7, size=1))\n",
    "print(np.random.randint(1, 7, size=10))\n",
    "print(np.random.randint(1, 7, size=(10,))) # the same as the previous one\n",
    "print(np.random.randint(1, 7, size=(5, 4)))"
   ]
  },
  {
   "cell_type": "code",
   "execution_count": 132,
   "metadata": {},
   "outputs": [
    {
     "data": {
      "text/plain": [
       "[5, 4, 5, 2, 6, 4, 4, 5, 2, 4]"
      ]
     },
     "execution_count": 132,
     "metadata": {},
     "output_type": "execute_result"
    }
   ],
   "source": [
    "crypto = random.SystemRandom()\n",
    "[ crypto.randint(1, 6) for _ in range(10) ]"
   ]
  },
  {
   "cell_type": "code",
   "execution_count": 133,
   "metadata": {},
   "outputs": [
    {
     "name": "stdout",
     "output_type": "stream",
     "text": [
      "Heidelberg\n"
     ]
    }
   ],
   "source": [
    "from random import choice\n",
    "possible_destinations = [\"Berlin\", \"Hamburg\", \"Munich\", \n",
    "                         \"Amsterdam\", \"London\", \"Paris\", \n",
    "                         \"Zurich\", \"Heidelberg\", \"Strasbourg\", \n",
    "                         \"Augsburg\", \"Milan\", \"Rome\"]\n",
    "print(choice(possible_destinations))"
   ]
  },
  {
   "cell_type": "code",
   "execution_count": 134,
   "metadata": {},
   "outputs": [
    {
     "name": "stdout",
     "output_type": "stream",
     "text": [
      "Zurich\n"
     ]
    }
   ],
   "source": [
    "from numpy.random import choice\n",
    "print(choice(possible_destinations))"
   ]
  },
  {
   "cell_type": "code",
   "execution_count": 135,
   "metadata": {},
   "outputs": [
    {
     "name": "stdout",
     "output_type": "stream",
     "text": [
      "['Rome' 'Munich' 'Berlin']\n",
      "[['Berlin' 'Amsterdam' 'Berlin' 'London']\n",
      " ['Strasbourg' 'Augsburg' 'Zurich' 'Rome']\n",
      " ['Zurich' 'London' 'Augsburg' 'Munich']]\n"
     ]
    }
   ],
   "source": [
    "x1 = choice(possible_destinations, size=3)\n",
    "print(x1)\n",
    "x2 = choice(possible_destinations, size=(3, 4))\n",
    "print(x2)"
   ]
  },
  {
   "cell_type": "code",
   "execution_count": 136,
   "metadata": {},
   "outputs": [
    {
     "name": "stdout",
     "output_type": "stream",
     "text": [
      "[['London' 'Amsterdam' 'Strasbourg' 'Rome']\n",
      " ['Hamburg' 'Milan' 'Berlin' 'Zurich']\n",
      " ['Paris' 'Augsburg' 'Heidelberg' 'Munich']]\n"
     ]
    }
   ],
   "source": [
    "print(choice(possible_destinations, size=(3, 4), replace=False))"
   ]
  },
  {
   "cell_type": "code",
   "execution_count": 137,
   "metadata": {},
   "outputs": [
    {
     "name": "stdout",
     "output_type": "stream",
     "text": [
      "-1, 0, 0, 1, 2, 2, 3, 4, 6, 6, -1, -1, "
     ]
    }
   ],
   "source": [
    "#Random Intervals\n",
    "#The find_interval function takes two arguments:\n",
    "    # a numerical value x\n",
    "    # a list or a tuple of numerical values p0, p1, p2, ... pn\n",
    "#The function will return i, if pi < x < pi+1. \n",
    "#       -1 will be returned, if x is less than p0 or if x is greater or equal than pn\n",
    "\n",
    "def find_interval(x, partition):\n",
    "    \"\"\" find_interval -> i\n",
    "        partition is a sequence of numerical values\n",
    "        x is a numerical value\n",
    "        The return value \"i\" will be the index for which applies\n",
    "        partition[i] < x < partition[i+1], if such an index exists.\n",
    "        -1 otherwise\n",
    "    \"\"\"\n",
    "    \n",
    "    for i in range(0, len(partition)):\n",
    "        if x < partition[i]:\n",
    "            return i-1\n",
    "    return -1\n",
    "I = [0, 3, 5, 7.8, 9, 12, 13.8, 16]\n",
    "for x in [-1.3, 0, 0.1, 3.2, 5, 6.2, 7.9, 10.8, 13.9, 15, 16, 16.5]:\n",
    "    print(find_interval(x, I), end=\", \")\n",
    "\n"
   ]
  },
  {
   "attachments": {},
   "cell_type": "markdown",
   "metadata": {},
   "source": [
    "<img align=\"left\" src=\"http://www.python-course.eu/images/partitions_with_endpoints.png\">"
   ]
  },
  {
   "cell_type": "code",
   "execution_count": null,
   "metadata": {
    "collapsed": true
   },
   "outputs": [],
   "source": []
  }
 ],
 "metadata": {
  "kernelspec": {
   "display_name": "Python 3",
   "language": "python",
   "name": "python3"
  },
  "language_info": {
   "codemirror_mode": {
    "name": "ipython",
    "version": 3
   },
   "file_extension": ".py",
   "mimetype": "text/x-python",
   "name": "python",
   "nbconvert_exporter": "python",
   "pygments_lexer": "ipython3",
   "version": "3.5.3"
  }
 },
 "nbformat": 4,
 "nbformat_minor": 2
}
