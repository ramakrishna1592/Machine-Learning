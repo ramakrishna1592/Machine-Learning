{
 "cells": [
  {
   "cell_type": "markdown",
   "metadata": {},
   "source": [
    "Machine Learning Defined\n",
    "<p><i>\n",
    "field of study that gives computers the ability to learn without being explicitly programmed : Arthur Samuel 1959\n",
    "a computer program is said to learn from experience E with respect to some task T and some performance measure P, if its performance on T as measured by P, improves with E : Tom Mitchell 1998 </i></p>\n",
    "\n",
    "Supervised Learning : training data includes the “correct” answer\n",
    "\n",
    "Regression - algorithms that predict continuous outputs\n",
    "\n",
    "Categorization - algorithms that predict discrete outputs\n",
    "\n",
    "Unsupervised Learning : problems where the algorithm is given a data set without any “right answers”. The objective is to find some underlying structure in the data, e.g. clustering \n",
    "\n",
    "Reinforcement Learning : problems where a sequence of decisions are made as opposed to a single decision (or prediction) \n",
    "\n",
    "Learning Theory : study of how and why (mathematically) a learning algorithm works"
   ]
  },
  {
   "cell_type": "code",
   "execution_count": null,
   "metadata": {
    "collapsed": true
   },
   "outputs": [],
   "source": []
  }
 ],
 "metadata": {
  "kernelspec": {
   "display_name": "Python 3",
   "language": "python",
   "name": "python3"
  },
  "language_info": {
   "codemirror_mode": {
    "name": "ipython",
    "version": 3
   },
   "file_extension": ".py",
   "mimetype": "text/x-python",
   "name": "python",
   "nbconvert_exporter": "python",
   "pygments_lexer": "ipython3",
   "version": "3.5.3"
  }
 },
 "nbformat": 4,
 "nbformat_minor": 2
}
